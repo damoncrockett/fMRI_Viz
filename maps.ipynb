{
 "cells": [
  {
   "cell_type": "markdown",
   "metadata": {},
   "source": [
    "# fMRI t-SNE maps, MD annotation"
   ]
  },
  {
   "cell_type": "markdown",
   "metadata": {},
   "source": [
    "#### Damon Crockett, Software Studies, UCSD, damoncrockett@gmail.com"
   ]
  },
  {
   "cell_type": "markdown",
   "metadata": {},
   "source": [
    "Some documentation here:"
   ]
  },
  {
   "cell_type": "markdown",
   "metadata": {},
   "source": [
    "http://www.nitrc.org/plugins/mwiki/index.php/neurobureau:AthenaPipeline"
   ]
  },
  {
   "cell_type": "markdown",
   "metadata": {},
   "source": [
    "This particular data, from the Pittsburgh study, has 89 subjects: \"Skullstripped T1 weighted anatomical image in template space at 1mm x 1mm x 1mm voxel resolution\""
   ]
  },
  {
   "cell_type": "code",
   "execution_count": 1,
   "metadata": {
    "collapsed": true
   },
   "outputs": [],
   "source": [
    "import pandas as pd"
   ]
  },
  {
   "cell_type": "code",
   "execution_count": 2,
   "metadata": {
    "collapsed": true
   },
   "outputs": [],
   "source": [
    "df = pd.read_csv(\"./Pittsburgh_phenotypic.csv\")"
   ]
  },
  {
   "cell_type": "code",
   "execution_count": 3,
   "metadata": {
    "collapsed": false
   },
   "outputs": [],
   "source": [
    "del df['Secondary Dx ']\n",
    "del df['ADHD Index']\n",
    "del df['ADHD Measure']\n",
    "del df['Inattentive']\n",
    "del df['Hyper/Impulsive']\n",
    "del df['Med Status']\n",
    "del df['QC_Rest_2']\n",
    "del df['QC_Rest_3']\n",
    "del df['QC_Rest_4']\n",
    "del df['QC_Anatomical_2']\n",
    "del df['IQ Measure']\n",
    "del df['Site']\n",
    "del df['DX']\n",
    "del df['QC_Rest_1']\n",
    "del df['QC_Anatomical_1']\n",
    "del df['Verbal IQ']\n",
    "del df['Performance IQ']\n",
    "del df['Full2 IQ']"
   ]
  },
  {
   "cell_type": "markdown",
   "metadata": {},
   "source": [
    "#### Pure Grid"
   ]
  },
  {
   "cell_type": "code",
   "execution_count": 4,
   "metadata": {
    "collapsed": true
   },
   "outputs": [],
   "source": [
    "from PIL import Image, ImageDraw"
   ]
  },
  {
   "cell_type": "code",
   "execution_count": 5,
   "metadata": {
    "collapsed": true
   },
   "outputs": [],
   "source": [
    "thumb = (192,227)"
   ]
  },
  {
   "cell_type": "code",
   "execution_count": 6,
   "metadata": {
    "collapsed": true
   },
   "outputs": [],
   "source": [
    "red = \"#E55169\"\n",
    "blue = \"#75D9FC\" \n",
    "yellow = \"#FDCC5B\"\n",
    "orange = \"#FA8242\""
   ]
  },
  {
   "cell_type": "code",
   "execution_count": 7,
   "metadata": {
    "collapsed": true
   },
   "outputs": [],
   "source": [
    "from scipy.stats import percentileofscore as pct"
   ]
  },
  {
   "cell_type": "code",
   "execution_count": 8,
   "metadata": {
    "collapsed": true
   },
   "outputs": [],
   "source": [
    "df['age_pct'] = [pct(df['Age'],item,kind=\"weak\") for item in df['Age']]\n",
    "df['iq_pct'] = [pct(df['Full4 IQ'],item,kind=\"weak\") for item in df['Full4 IQ']]"
   ]
  },
  {
   "cell_type": "code",
   "execution_count": 9,
   "metadata": {
    "collapsed": true
   },
   "outputs": [],
   "source": [
    "DIR = \"/Users/damoncrockett/Desktop/fMRI/\""
   ]
  },
  {
   "cell_type": "code",
   "execution_count": 10,
   "metadata": {
    "collapsed": false
   },
   "outputs": [],
   "source": [
    "df['folder'] = [DIR + \"wssd00\" + str(item) + \"/\" for item in df['ScanDir ID']]"
   ]
  },
  {
   "cell_type": "code",
   "execution_count": 11,
   "metadata": {
    "collapsed": true
   },
   "outputs": [],
   "source": [
    "import numpy as np"
   ]
  },
  {
   "cell_type": "code",
   "execution_count": 12,
   "metadata": {
    "collapsed": true
   },
   "outputs": [],
   "source": [
    "def draw_hashes():\n",
    "    x = np.arange(12,192,12)\n",
    "    y1 = np.repeat(0,15)\n",
    "    y2 = [6*item for item in [1,2,1,3,1,2,1,4,1,2,1,3,1,2,1]]\n",
    "    \n",
    "    y3 = np.repeat(227,15)\n",
    "    y4 = [227 - item for item in y2]\n",
    "    \n",
    "    for i in range(15):\n",
    "        draw.line([(x[i],y1[i]),(x[i],y2[i])],fill=\"white\",width=1)\n",
    "        draw.line([(x[i],y3[i]),(x[i],y4[i])],fill=\"white\",width=1)"
   ]
  },
  {
   "cell_type": "code",
   "execution_count": 13,
   "metadata": {
    "collapsed": false
   },
   "outputs": [],
   "source": [
    "brain_slices = range(3,158)"
   ]
  },
  {
   "cell_type": "code",
   "execution_count": 14,
   "metadata": {
    "collapsed": true
   },
   "outputs": [],
   "source": [
    "from sklearn.manifold import TSNE as tsne\n",
    "from skimage.io import imread\n",
    "from shapely.geometry import Point\n",
    "from skimage.color import rgb2gray"
   ]
  },
  {
   "cell_type": "code",
   "execution_count": 15,
   "metadata": {
    "collapsed": true
   },
   "outputs": [],
   "source": [
    "def check_duplicates(num_bins):\n",
    "    x = list(pd.cut(subspace_tsne['x'],num_bins,labels=False))\n",
    "    y = list(pd.cut(subspace_tsne['y'],num_bins,labels=False))\n",
    "    tmp = pd.DataFrame(x)\n",
    "    tmp['y'] = y\n",
    "    n = np.mean(tmp.duplicated())\n",
    "    return n"
   ]
  },
  {
   "cell_type": "code",
   "execution_count": 18,
   "metadata": {
    "collapsed": false
   },
   "outputs": [],
   "source": [
    "for brain_slice in brain_slices:   \n",
    "    \n",
    "    brain_slice = str(brain_slice).zfill(3)\n",
    "    \n",
    "    im_vectors = []\n",
    "    local_paths = []\n",
    "    \n",
    "    for i in range(len(df)):\n",
    "        im = df.folder.loc[0]+\"image-slice\"+brain_slice+\".jpg\"\n",
    "        local_paths.append(im)\n",
    "        im_vector = np.hstack(rgb2gray(imread(im)))\n",
    "        im_vectors.append(im_vector)\n",
    "    X = np.vstack(im_vectors)\n",
    "    \n",
    "    tsne_obj = tsne(n_components=2)\n",
    "    subspace_tsne = pd.DataFrame(tsne_obj.fit_transform(X),columns=[\"x\",\"y\"])\n",
    "    \n",
    "    num_bins = 2\n",
    "    while check_duplicates(num_bins) > 0.1:\n",
    "        num_bins+=1\n",
    "    \n",
    "    subspace_tsne['grid_x'] = pd.cut(subspace_tsne['x'],num_bins,labels=False)\n",
    "    subspace_tsne['grid_y'] = pd.cut(subspace_tsne['y'],num_bins,labels=False)\n",
    "    subspace_tsne['local_path'] = local_paths\n",
    "    \n",
    "    grid_side = num_bins\n",
    "    px_w = thumb[0] * grid_side\n",
    "    px_h = thumb[1] * grid_side\n",
    "    \n",
    "    canvas = Image.new('RGB',(px_w,px_h),(0,0,0))\n",
    "    \n",
    "    for i in range(len(df)):\n",
    "        \n",
    "        folder = df.folder.loc[i]\n",
    "        age = df.age_pct.loc[i] / 100\n",
    "        iq = df.iq_pct.loc[i] / 100\n",
    "\n",
    "        if df.Handedness.loc[i]==1:\n",
    "            top_fill = red\n",
    "        if df.Handedness.loc[i]==0:\n",
    "            top_fill = yellow\n",
    "        if df.Gender.loc[i]==1:\n",
    "            bottom_fill = blue \n",
    "        if df.Gender.loc[i]==0:    \n",
    "            bottom_fill = orange\n",
    "\n",
    "        im = Image.open(folder+\"image-slice\"+brain_slice+\".jpg\")\n",
    "        im.thumbnail(thumb,Image.ANTIALIAS)\n",
    "        draw = ImageDraw.Draw(im)\n",
    "\n",
    "        draw.line([(0,0),(int(round(thumb[0]*iq)),0)],fill=top_fill,width=10)\n",
    "        draw.line([(0,225),(int(round(thumb[0]*age)),225)],fill=bottom_fill,width=10)\n",
    "        draw_hashes()\n",
    "    \n",
    "        x = subspace_tsne.grid_x.loc[i] * thumb[0]\n",
    "        y = subspace_tsne.grid_y.loc[i] * thumb[1]\n",
    "        canvas.paste(im,(x,y))\n",
    "    \n",
    "    canvas.save(DIR+\"maps/\"+brain_slice+\".png\")"
   ]
  },
  {
   "cell_type": "code",
   "execution_count": null,
   "metadata": {
    "collapsed": true
   },
   "outputs": [],
   "source": []
  }
 ],
 "metadata": {
  "kernelspec": {
   "display_name": "Python 2",
   "language": "python",
   "name": "python2"
  },
  "language_info": {
   "codemirror_mode": {
    "name": "ipython",
    "version": 2
   },
   "file_extension": ".py",
   "mimetype": "text/x-python",
   "name": "python",
   "nbconvert_exporter": "python",
   "pygments_lexer": "ipython2",
   "version": "2.7.10"
  }
 },
 "nbformat": 4,
 "nbformat_minor": 0
}
